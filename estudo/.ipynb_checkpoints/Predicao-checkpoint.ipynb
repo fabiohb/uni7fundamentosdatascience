{
 "cells": [
  {
   "cell_type": "code",
   "execution_count": 211,
   "metadata": {},
   "outputs": [],
   "source": [
    "import pandas as pd"
   ]
  },
  {
   "cell_type": "code",
   "execution_count": 212,
   "metadata": {},
   "outputs": [
    {
     "data": {
      "text/html": [
       "<div>\n",
       "<style scoped>\n",
       "    .dataframe tbody tr th:only-of-type {\n",
       "        vertical-align: middle;\n",
       "    }\n",
       "\n",
       "    .dataframe tbody tr th {\n",
       "        vertical-align: top;\n",
       "    }\n",
       "\n",
       "    .dataframe thead th {\n",
       "        text-align: right;\n",
       "    }\n",
       "</style>\n",
       "<table border=\"1\" class=\"dataframe\">\n",
       "  <thead>\n",
       "    <tr style=\"text-align: right;\">\n",
       "      <th></th>\n",
       "      <th>date</th>\n",
       "      <th>y</th>\n",
       "    </tr>\n",
       "  </thead>\n",
       "  <tbody>\n",
       "    <tr>\n",
       "      <td>0</td>\n",
       "      <td>2020-03-15 00:00:00</td>\n",
       "      <td>402</td>\n",
       "    </tr>\n",
       "    <tr>\n",
       "      <td>1</td>\n",
       "      <td>2020-03-16 00:00:00</td>\n",
       "      <td>518</td>\n",
       "    </tr>\n",
       "    <tr>\n",
       "      <td>2</td>\n",
       "      <td>2020-03-17 00:00:00</td>\n",
       "      <td>647</td>\n",
       "    </tr>\n",
       "    <tr>\n",
       "      <td>3</td>\n",
       "      <td>2020-03-18 00:00:00</td>\n",
       "      <td>814</td>\n",
       "    </tr>\n",
       "    <tr>\n",
       "      <td>4</td>\n",
       "      <td>2020-03-19 00:00:00</td>\n",
       "      <td>973</td>\n",
       "    </tr>\n",
       "    <tr>\n",
       "      <td>...</td>\n",
       "      <td>...</td>\n",
       "      <td>...</td>\n",
       "    </tr>\n",
       "    <tr>\n",
       "      <td>65</td>\n",
       "      <td>2020-05-19 00:00:00</td>\n",
       "      <td>33632</td>\n",
       "    </tr>\n",
       "    <tr>\n",
       "      <td>66</td>\n",
       "      <td>2020-05-20 00:00:00</td>\n",
       "      <td>33807</td>\n",
       "    </tr>\n",
       "    <tr>\n",
       "      <td>67</td>\n",
       "      <td>2020-05-21 00:00:00</td>\n",
       "      <td>33842</td>\n",
       "    </tr>\n",
       "    <tr>\n",
       "      <td>68</td>\n",
       "      <td>2020-05-22 00:00:00</td>\n",
       "      <td>33847</td>\n",
       "    </tr>\n",
       "    <tr>\n",
       "      <td>69</td>\n",
       "      <td>2020-05-23 00:00:00</td>\n",
       "      <td>33851</td>\n",
       "    </tr>\n",
       "  </tbody>\n",
       "</table>\n",
       "<p>70 rows × 2 columns</p>\n",
       "</div>"
      ],
      "text/plain": [
       "                   date      y\n",
       "0   2020-03-15 00:00:00    402\n",
       "1   2020-03-16 00:00:00    518\n",
       "2   2020-03-17 00:00:00    647\n",
       "3   2020-03-18 00:00:00    814\n",
       "4   2020-03-19 00:00:00    973\n",
       "..                  ...    ...\n",
       "65  2020-05-19 00:00:00  33632\n",
       "66  2020-05-20 00:00:00  33807\n",
       "67  2020-05-21 00:00:00  33842\n",
       "68  2020-05-22 00:00:00  33847\n",
       "69  2020-05-23 00:00:00  33851\n",
       "\n",
       "[70 rows x 2 columns]"
      ]
     },
     "execution_count": 212,
     "metadata": {},
     "output_type": "execute_result"
    }
   ],
   "source": [
    "df=pd.read_csv('casos.csv')\n",
    "df"
   ]
  },
  {
   "cell_type": "code",
   "execution_count": 213,
   "metadata": {},
   "outputs": [],
   "source": [
    "df_=df.filter(['date','y'])"
   ]
  },
  {
   "cell_type": "code",
   "execution_count": 214,
   "metadata": {},
   "outputs": [
    {
     "data": {
      "text/html": [
       "<div>\n",
       "<style scoped>\n",
       "    .dataframe tbody tr th:only-of-type {\n",
       "        vertical-align: middle;\n",
       "    }\n",
       "\n",
       "    .dataframe tbody tr th {\n",
       "        vertical-align: top;\n",
       "    }\n",
       "\n",
       "    .dataframe thead th {\n",
       "        text-align: right;\n",
       "    }\n",
       "</style>\n",
       "<table border=\"1\" class=\"dataframe\">\n",
       "  <thead>\n",
       "    <tr style=\"text-align: right;\">\n",
       "      <th></th>\n",
       "      <th>date</th>\n",
       "      <th>y</th>\n",
       "    </tr>\n",
       "  </thead>\n",
       "  <tbody>\n",
       "    <tr>\n",
       "      <td>0</td>\n",
       "      <td>2020-03-15 00:00:00</td>\n",
       "      <td>402</td>\n",
       "    </tr>\n",
       "    <tr>\n",
       "      <td>1</td>\n",
       "      <td>2020-03-16 00:00:00</td>\n",
       "      <td>518</td>\n",
       "    </tr>\n",
       "    <tr>\n",
       "      <td>2</td>\n",
       "      <td>2020-03-17 00:00:00</td>\n",
       "      <td>647</td>\n",
       "    </tr>\n",
       "    <tr>\n",
       "      <td>3</td>\n",
       "      <td>2020-03-18 00:00:00</td>\n",
       "      <td>814</td>\n",
       "    </tr>\n",
       "    <tr>\n",
       "      <td>4</td>\n",
       "      <td>2020-03-19 00:00:00</td>\n",
       "      <td>973</td>\n",
       "    </tr>\n",
       "    <tr>\n",
       "      <td>...</td>\n",
       "      <td>...</td>\n",
       "      <td>...</td>\n",
       "    </tr>\n",
       "    <tr>\n",
       "      <td>65</td>\n",
       "      <td>2020-05-19 00:00:00</td>\n",
       "      <td>33632</td>\n",
       "    </tr>\n",
       "    <tr>\n",
       "      <td>66</td>\n",
       "      <td>2020-05-20 00:00:00</td>\n",
       "      <td>33807</td>\n",
       "    </tr>\n",
       "    <tr>\n",
       "      <td>67</td>\n",
       "      <td>2020-05-21 00:00:00</td>\n",
       "      <td>33842</td>\n",
       "    </tr>\n",
       "    <tr>\n",
       "      <td>68</td>\n",
       "      <td>2020-05-22 00:00:00</td>\n",
       "      <td>33847</td>\n",
       "    </tr>\n",
       "    <tr>\n",
       "      <td>69</td>\n",
       "      <td>2020-05-23 00:00:00</td>\n",
       "      <td>33851</td>\n",
       "    </tr>\n",
       "  </tbody>\n",
       "</table>\n",
       "<p>70 rows × 2 columns</p>\n",
       "</div>"
      ],
      "text/plain": [
       "                   date      y\n",
       "0   2020-03-15 00:00:00    402\n",
       "1   2020-03-16 00:00:00    518\n",
       "2   2020-03-17 00:00:00    647\n",
       "3   2020-03-18 00:00:00    814\n",
       "4   2020-03-19 00:00:00    973\n",
       "..                  ...    ...\n",
       "65  2020-05-19 00:00:00  33632\n",
       "66  2020-05-20 00:00:00  33807\n",
       "67  2020-05-21 00:00:00  33842\n",
       "68  2020-05-22 00:00:00  33847\n",
       "69  2020-05-23 00:00:00  33851\n",
       "\n",
       "[70 rows x 2 columns]"
      ]
     },
     "execution_count": 214,
     "metadata": {},
     "output_type": "execute_result"
    }
   ],
   "source": [
    "df_"
   ]
  },
  {
   "cell_type": "code",
   "execution_count": 215,
   "metadata": {},
   "outputs": [],
   "source": [
    "df_['t+5']=df['y']"
   ]
  },
  {
   "cell_type": "code",
   "execution_count": 216,
   "metadata": {},
   "outputs": [],
   "source": [
    "df_['t+4']=df_['t+5'].shift(1)\n",
    "df_['t+3']=df_['t+4'].shift(1)\n",
    "df_['t+2']=df_['t+3'].shift(1)\n",
    "df_['t+1']=df_['t+2'].shift(1)\n",
    "df_['t']=df_['t+1'].shift(1)"
   ]
  },
  {
   "cell_type": "code",
   "execution_count": 217,
   "metadata": {},
   "outputs": [],
   "source": [
    "df__=df_.filter(['t+5','t+4','t+3','t+2','t+1','t'])"
   ]
  },
  {
   "cell_type": "code",
   "execution_count": 218,
   "metadata": {},
   "outputs": [
    {
     "data": {
      "text/html": [
       "<div>\n",
       "<style scoped>\n",
       "    .dataframe tbody tr th:only-of-type {\n",
       "        vertical-align: middle;\n",
       "    }\n",
       "\n",
       "    .dataframe tbody tr th {\n",
       "        vertical-align: top;\n",
       "    }\n",
       "\n",
       "    .dataframe thead th {\n",
       "        text-align: right;\n",
       "    }\n",
       "</style>\n",
       "<table border=\"1\" class=\"dataframe\">\n",
       "  <thead>\n",
       "    <tr style=\"text-align: right;\">\n",
       "      <th></th>\n",
       "      <th>t+5</th>\n",
       "      <th>t+4</th>\n",
       "      <th>t+3</th>\n",
       "      <th>t+2</th>\n",
       "      <th>t+1</th>\n",
       "      <th>t</th>\n",
       "    </tr>\n",
       "  </thead>\n",
       "  <tbody>\n",
       "    <tr>\n",
       "      <td>t+5</td>\n",
       "      <td>1.000000</td>\n",
       "      <td>0.999594</td>\n",
       "      <td>0.998440</td>\n",
       "      <td>0.996583</td>\n",
       "      <td>0.994038</td>\n",
       "      <td>0.990808</td>\n",
       "    </tr>\n",
       "    <tr>\n",
       "      <td>t+4</td>\n",
       "      <td>0.999594</td>\n",
       "      <td>1.000000</td>\n",
       "      <td>0.999602</td>\n",
       "      <td>0.998480</td>\n",
       "      <td>0.996686</td>\n",
       "      <td>0.994204</td>\n",
       "    </tr>\n",
       "    <tr>\n",
       "      <td>t+3</td>\n",
       "      <td>0.998440</td>\n",
       "      <td>0.999602</td>\n",
       "      <td>1.000000</td>\n",
       "      <td>0.999613</td>\n",
       "      <td>0.998530</td>\n",
       "      <td>0.996783</td>\n",
       "    </tr>\n",
       "    <tr>\n",
       "      <td>t+2</td>\n",
       "      <td>0.996583</td>\n",
       "      <td>0.998480</td>\n",
       "      <td>0.999613</td>\n",
       "      <td>1.000000</td>\n",
       "      <td>0.999626</td>\n",
       "      <td>0.998569</td>\n",
       "    </tr>\n",
       "    <tr>\n",
       "      <td>t+1</td>\n",
       "      <td>0.994038</td>\n",
       "      <td>0.996686</td>\n",
       "      <td>0.998530</td>\n",
       "      <td>0.999626</td>\n",
       "      <td>1.000000</td>\n",
       "      <td>0.999632</td>\n",
       "    </tr>\n",
       "    <tr>\n",
       "      <td>t</td>\n",
       "      <td>0.990808</td>\n",
       "      <td>0.994204</td>\n",
       "      <td>0.996783</td>\n",
       "      <td>0.998569</td>\n",
       "      <td>0.999632</td>\n",
       "      <td>1.000000</td>\n",
       "    </tr>\n",
       "  </tbody>\n",
       "</table>\n",
       "</div>"
      ],
      "text/plain": [
       "          t+5       t+4       t+3       t+2       t+1         t\n",
       "t+5  1.000000  0.999594  0.998440  0.996583  0.994038  0.990808\n",
       "t+4  0.999594  1.000000  0.999602  0.998480  0.996686  0.994204\n",
       "t+3  0.998440  0.999602  1.000000  0.999613  0.998530  0.996783\n",
       "t+2  0.996583  0.998480  0.999613  1.000000  0.999626  0.998569\n",
       "t+1  0.994038  0.996686  0.998530  0.999626  1.000000  0.999632\n",
       "t    0.990808  0.994204  0.996783  0.998569  0.999632  1.000000"
      ]
     },
     "execution_count": 218,
     "metadata": {},
     "output_type": "execute_result"
    }
   ],
   "source": [
    "df__.corr()\n"
   ]
  },
  {
   "cell_type": "code",
   "execution_count": 219,
   "metadata": {},
   "outputs": [],
   "source": [
    "serie=df__['t+5'].dropna()"
   ]
  },
  {
   "cell_type": "code",
   "execution_count": 220,
   "metadata": {},
   "outputs": [
    {
     "data": {
      "text/plain": [
       "0         NaN\n",
       "1         NaN\n",
       "2         NaN\n",
       "3         NaN\n",
       "4         NaN\n",
       "       ...   \n",
       "65    32295.5\n",
       "66    32650.2\n",
       "67    32938.3\n",
       "68    33173.7\n",
       "69    33360.5\n",
       "Name: t+5, Length: 70, dtype: float64"
      ]
     },
     "execution_count": 220,
     "metadata": {},
     "output_type": "execute_result"
    }
   ],
   "source": [
    "movieaverage=serie.rolling(window=10)\n",
    "means=movieaverage.mean()\n",
    "means"
   ]
  },
  {
   "cell_type": "code",
   "execution_count": 221,
   "metadata": {},
   "outputs": [
    {
     "data": {
      "text/html": [
       "\n",
       "<div id=\"altair-viz-18792c79794f4d9ab244d2d4fce891e9\"></div>\n",
       "<script type=\"text/javascript\">\n",
       "  (function(spec, embedOpt){\n",
       "    const outputDiv = document.getElementById(\"altair-viz-18792c79794f4d9ab244d2d4fce891e9\");\n",
       "    const paths = {\n",
       "      \"vega\": \"https://cdn.jsdelivr.net/npm//vega@5?noext\",\n",
       "      \"vega-lib\": \"https://cdn.jsdelivr.net/npm//vega-lib?noext\",\n",
       "      \"vega-lite\": \"https://cdn.jsdelivr.net/npm//vega-lite@4.0.2?noext\",\n",
       "      \"vega-embed\": \"https://cdn.jsdelivr.net/npm//vega-embed@6?noext\",\n",
       "    };\n",
       "\n",
       "    function loadScript(lib) {\n",
       "      return new Promise(function(resolve, reject) {\n",
       "        var s = document.createElement('script');\n",
       "        s.src = paths[lib];\n",
       "        s.async = true;\n",
       "        s.onload = () => resolve(paths[lib]);\n",
       "        s.onerror = () => reject(`Error loading script: ${paths[lib]}`);\n",
       "        document.getElementsByTagName(\"head\")[0].appendChild(s);\n",
       "      });\n",
       "    }\n",
       "\n",
       "    function showError(err) {\n",
       "      outputDiv.innerHTML = `<div class=\"error\" style=\"color:red;\">${err}</div>`;\n",
       "      throw err;\n",
       "    }\n",
       "\n",
       "    function displayChart(vegaEmbed) {\n",
       "      vegaEmbed(outputDiv, spec, embedOpt)\n",
       "        .catch(err => showError(`Javascript Error: ${err.message}<br>This usually means there's a typo in your chart specification. See the javascript console for the full traceback.`));\n",
       "    }\n",
       "\n",
       "    if(typeof define === \"function\" && define.amd) {\n",
       "      requirejs.config({paths});\n",
       "      require([\"vega-embed\"], displayChart, err => showError(`Error loading script: ${err.message}`));\n",
       "    } else if (typeof vegaEmbed === \"function\") {\n",
       "      displayChart(vegaEmbed);\n",
       "    } else {\n",
       "      loadScript(\"vega\")\n",
       "        .then(() => loadScript(\"vega-lite\"))\n",
       "        .then(() => loadScript(\"vega-embed\"))\n",
       "        .catch(showError)\n",
       "        .then(() => displayChart(vegaEmbed));\n",
       "    }\n",
       "  })({\"config\": {\"view\": {\"continuousWidth\": 400, \"continuousHeight\": 300}}, \"data\": {\"name\": \"data-80cff3b4609110c3627c6a14a8d12546\"}, \"mark\": \"line\", \"encoding\": {\"color\": {\"type\": \"nominal\", \"field\": \"class\"}, \"x\": {\"type\": \"quantitative\", \"field\": \"x\"}, \"y\": {\"type\": \"quantitative\", \"field\": \"y\"}}, \"$schema\": \"https://vega.github.io/schema/vega-lite/v4.0.2.json\", \"datasets\": {\"data-80cff3b4609110c3627c6a14a8d12546\": [{\"class\": \"real\", \"x\": 0.0, \"y\": 402.0}, {\"class\": \"moving average\", \"x\": 0.0, \"y\": null}, {\"class\": \"real\", \"x\": 1.0, \"y\": 518.0}, {\"class\": \"moving average\", \"x\": 1.0, \"y\": null}, {\"class\": \"real\", \"x\": 2.0, \"y\": 647.0}, {\"class\": \"moving average\", \"x\": 2.0, \"y\": null}, {\"class\": \"real\", \"x\": 3.0, \"y\": 814.0}, {\"class\": \"moving average\", \"x\": 3.0, \"y\": null}, {\"class\": \"real\", \"x\": 4.0, \"y\": 973.0}, {\"class\": \"moving average\", \"x\": 4.0, \"y\": null}, {\"class\": \"real\", \"x\": 5.0, \"y\": 1200.0}, {\"class\": \"moving average\", \"x\": 5.0, \"y\": null}, {\"class\": \"real\", \"x\": 6.0, \"y\": 1365.0}, {\"class\": \"moving average\", \"x\": 6.0, \"y\": null}, {\"class\": \"real\", \"x\": 7.0, \"y\": 1507.0}, {\"class\": \"moving average\", \"x\": 7.0, \"y\": null}, {\"class\": \"real\", \"x\": 8.0, \"y\": 1669.0}, {\"class\": \"moving average\", \"x\": 8.0, \"y\": null}, {\"class\": \"real\", \"x\": 9.0, \"y\": 1841.0}, {\"class\": \"moving average\", \"x\": 9.0, \"y\": 1093.6}, {\"class\": \"real\", \"x\": 10.0, \"y\": 2018.0}, {\"class\": \"moving average\", \"x\": 10.0, \"y\": 1255.2}, {\"class\": \"real\", \"x\": 11.0, \"y\": 2164.0}, {\"class\": \"moving average\", \"x\": 11.0, \"y\": 1419.8}, {\"class\": \"real\", \"x\": 12.0, \"y\": 2303.0}, {\"class\": \"moving average\", \"x\": 12.0, \"y\": 1585.4}, {\"class\": \"real\", \"x\": 13.0, \"y\": 2419.0}, {\"class\": \"moving average\", \"x\": 13.0, \"y\": 1745.9}, {\"class\": \"real\", \"x\": 14.0, \"y\": 2537.0}, {\"class\": \"moving average\", \"x\": 14.0, \"y\": 1902.3}, {\"class\": \"real\", \"x\": 15.0, \"y\": 2695.0}, {\"class\": \"moving average\", \"x\": 15.0, \"y\": 2051.8}, {\"class\": \"real\", \"x\": 16.0, \"y\": 2820.0}, {\"class\": \"moving average\", \"x\": 16.0, \"y\": 2197.3}, {\"class\": \"real\", \"x\": 17.0, \"y\": 3075.0}, {\"class\": \"moving average\", \"x\": 17.0, \"y\": 2354.1}, {\"class\": \"real\", \"x\": 18.0, \"y\": 3247.0}, {\"class\": \"moving average\", \"x\": 18.0, \"y\": 2511.9}, {\"class\": \"real\", \"x\": 19.0, \"y\": 3404.0}, {\"class\": \"moving average\", \"x\": 19.0, \"y\": 2668.2}, {\"class\": \"real\", \"x\": 20.0, \"y\": 3582.0}, {\"class\": \"moving average\", \"x\": 20.0, \"y\": 2824.6}, {\"class\": \"real\", \"x\": 21.0, \"y\": 3794.0}, {\"class\": \"moving average\", \"x\": 21.0, \"y\": 2987.6}, {\"class\": \"real\", \"x\": 22.0, \"y\": 4023.0}, {\"class\": \"moving average\", \"x\": 22.0, \"y\": 3159.6}, {\"class\": \"real\", \"x\": 23.0, \"y\": 4261.0}, {\"class\": \"moving average\", \"x\": 23.0, \"y\": 3343.8}, {\"class\": \"real\", \"x\": 24.0, \"y\": 4544.0}, {\"class\": \"moving average\", \"x\": 24.0, \"y\": 3544.5}, {\"class\": \"real\", \"x\": 25.0, \"y\": 4866.0}, {\"class\": \"moving average\", \"x\": 25.0, \"y\": 3761.6}, {\"class\": \"real\", \"x\": 26.0, \"y\": 5334.0}, {\"class\": \"moving average\", \"x\": 26.0, \"y\": 4013.0}, {\"class\": \"real\", \"x\": 27.0, \"y\": 5711.0}, {\"class\": \"moving average\", \"x\": 27.0, \"y\": 4276.6}, {\"class\": \"real\", \"x\": 28.0, \"y\": 6110.0}, {\"class\": \"moving average\", \"x\": 28.0, \"y\": 4562.9}, {\"class\": \"real\", \"x\": 29.0, \"y\": 6586.0}, {\"class\": \"moving average\", \"x\": 29.0, \"y\": 4881.1}, {\"class\": \"real\", \"x\": 30.0, \"y\": 7112.0}, {\"class\": \"moving average\", \"x\": 30.0, \"y\": 5234.1}, {\"class\": \"real\", \"x\": 31.0, \"y\": 7706.0}, {\"class\": \"moving average\", \"x\": 31.0, \"y\": 5625.3}, {\"class\": \"real\", \"x\": 32.0, \"y\": 8212.0}, {\"class\": \"moving average\", \"x\": 32.0, \"y\": 6044.2}, {\"class\": \"real\", \"x\": 33.0, \"y\": 8799.0}, {\"class\": \"moving average\", \"x\": 33.0, \"y\": 6498.0}, {\"class\": \"real\", \"x\": 34.0, \"y\": 9372.0}, {\"class\": \"moving average\", \"x\": 34.0, \"y\": 6980.8}, {\"class\": \"real\", \"x\": 35.0, \"y\": 10005.0}, {\"class\": \"moving average\", \"x\": 35.0, \"y\": 7494.7}, {\"class\": \"real\", \"x\": 36.0, \"y\": 11117.0}, {\"class\": \"moving average\", \"x\": 36.0, \"y\": 8073.0}, {\"class\": \"real\", \"x\": 37.0, \"y\": 11826.0}, {\"class\": \"moving average\", \"x\": 37.0, \"y\": 8684.5}, {\"class\": \"real\", \"x\": 38.0, \"y\": 12618.0}, {\"class\": \"moving average\", \"x\": 38.0, \"y\": 9335.3}, {\"class\": \"real\", \"x\": 39.0, \"y\": 13456.0}, {\"class\": \"moving average\", \"x\": 39.0, \"y\": 10022.3}, {\"class\": \"real\", \"x\": 40.0, \"y\": 14454.0}, {\"class\": \"moving average\", \"x\": 40.0, \"y\": 10756.5}, {\"class\": \"real\", \"x\": 41.0, \"y\": 15481.0}, {\"class\": \"moving average\", \"x\": 41.0, \"y\": 11534.0}, {\"class\": \"real\", \"x\": 42.0, \"y\": 16359.0}, {\"class\": \"moving average\", \"x\": 42.0, \"y\": 12348.7}, {\"class\": \"real\", \"x\": 43.0, \"y\": 17351.0}, {\"class\": \"moving average\", \"x\": 43.0, \"y\": 13203.9}, {\"class\": \"real\", \"x\": 44.0, \"y\": 18417.0}, {\"class\": \"moving average\", \"x\": 44.0, \"y\": 14108.4}, {\"class\": \"real\", \"x\": 45.0, \"y\": 19312.0}, {\"class\": \"moving average\", \"x\": 45.0, \"y\": 15039.1}, {\"class\": \"real\", \"x\": 46.0, \"y\": 20498.0}, {\"class\": \"moving average\", \"x\": 46.0, \"y\": 15977.2}, {\"class\": \"real\", \"x\": 47.0, \"y\": 21952.0}, {\"class\": \"moving average\", \"x\": 47.0, \"y\": 16989.8}, {\"class\": \"real\", \"x\": 48.0, \"y\": 23064.0}, {\"class\": \"moving average\", \"x\": 48.0, \"y\": 18034.4}, {\"class\": \"real\", \"x\": 49.0, \"y\": 23952.0}, {\"class\": \"moving average\", \"x\": 49.0, \"y\": 19084.0}, {\"class\": \"real\", \"x\": 50.0, \"y\": 25067.0}, {\"class\": \"moving average\", \"x\": 50.0, \"y\": 20145.3}, {\"class\": \"real\", \"x\": 51.0, \"y\": 26159.0}, {\"class\": \"moving average\", \"x\": 51.0, \"y\": 21213.1}, {\"class\": \"real\", \"x\": 52.0, \"y\": 27064.0}, {\"class\": \"moving average\", \"x\": 52.0, \"y\": 22283.6}, {\"class\": \"real\", \"x\": 53.0, \"y\": 27953.0}, {\"class\": \"moving average\", \"x\": 53.0, \"y\": 23343.8}, {\"class\": \"real\", \"x\": 54.0, \"y\": 28837.0}, {\"class\": \"moving average\", \"x\": 54.0, \"y\": 24385.8}, {\"class\": \"real\", \"x\": 55.0, \"y\": 29554.0}, {\"class\": \"moving average\", \"x\": 55.0, \"y\": 25410.0}, {\"class\": \"real\", \"x\": 56.0, \"y\": 30260.0}, {\"class\": \"moving average\", \"x\": 56.0, \"y\": 26386.2}, {\"class\": \"real\", \"x\": 57.0, \"y\": 30961.0}, {\"class\": \"moving average\", \"x\": 57.0, \"y\": 27287.1}, {\"class\": \"real\", \"x\": 58.0, \"y\": 31493.0}, {\"class\": \"moving average\", \"x\": 58.0, \"y\": 28130.0}, {\"class\": \"real\", \"x\": 59.0, \"y\": 31983.0}, {\"class\": \"moving average\", \"x\": 59.0, \"y\": 28933.1}, {\"class\": \"real\", \"x\": 60.0, \"y\": 32363.0}, {\"class\": \"moving average\", \"x\": 60.0, \"y\": 29662.7}, {\"class\": \"real\", \"x\": 61.0, \"y\": 32745.0}, {\"class\": \"moving average\", \"x\": 61.0, \"y\": 30321.3}, {\"class\": \"real\", \"x\": 62.0, \"y\": 32948.0}, {\"class\": \"moving average\", \"x\": 62.0, \"y\": 30909.7}, {\"class\": \"real\", \"x\": 63.0, \"y\": 33139.0}, {\"class\": \"moving average\", \"x\": 63.0, \"y\": 31428.3}, {\"class\": \"real\", \"x\": 64.0, \"y\": 33431.0}, {\"class\": \"moving average\", \"x\": 64.0, \"y\": 31887.7}, {\"class\": \"real\", \"x\": 65.0, \"y\": 33632.0}, {\"class\": \"moving average\", \"x\": 65.0, \"y\": 32295.5}, {\"class\": \"real\", \"x\": 66.0, \"y\": 33807.0}, {\"class\": \"moving average\", \"x\": 66.0, \"y\": 32650.2}, {\"class\": \"real\", \"x\": 67.0, \"y\": 33842.0}, {\"class\": \"moving average\", \"x\": 67.0, \"y\": 32938.3}, {\"class\": \"real\", \"x\": 68.0, \"y\": 33847.0}, {\"class\": \"moving average\", \"x\": 68.0, \"y\": 33173.7}, {\"class\": \"real\", \"x\": 69.0, \"y\": 33851.0}, {\"class\": \"moving average\", \"x\": 69.0, \"y\": 33360.5}]}}, {\"mode\": \"vega-lite\"});\n",
       "</script>"
      ],
      "text/plain": [
       "alt.Chart(...)"
      ]
     },
     "execution_count": 221,
     "metadata": {},
     "output_type": "execute_result"
    }
   ],
   "source": [
    "import altair as alt\n",
    "dfa=pd.DataFrame()\n",
    "\n",
    "i=0\n",
    "for x,y in zip(serie,means):\n",
    "    dfa=dfa.append({'class':'real','x':i,'y':x},ignore_index=True)\n",
    "\n",
    "    dfa=dfa.append({'class':'moving average','x':i,'y':y},ignore_index=True)\n",
    "    i+=1\n",
    "\n",
    "alt.Chart(dfa).mark_line().encode(\n",
    "x='x',\n",
    "y='y',\n",
    "color='class'\n",
    "    \n",
    ")"
   ]
  },
  {
   "cell_type": "code",
   "execution_count": 222,
   "metadata": {},
   "outputs": [],
   "source": [
    "from pandas.plotting import lag_plot"
   ]
  },
  {
   "cell_type": "code",
   "execution_count": 223,
   "metadata": {},
   "outputs": [
    {
     "data": {
      "text/plain": [
       "<matplotlib.axes._subplots.AxesSubplot at 0x7f3879c0e9b0>"
      ]
     },
     "execution_count": 223,
     "metadata": {},
     "output_type": "execute_result"
    },
    {
     "data": {
      "image/png": "[encoded data removed]",
      "text/plain": [
       "<Figure size 1152x648 with 1 Axes>"
      ]
     },
     "metadata": {
      "needs_background": "light"
     },
     "output_type": "display_data"
    }
   ],
   "source": [
    "lag_plot(serie)"
   ]
  },
  {
   "cell_type": "code",
   "execution_count": 224,
   "metadata": {},
   "outputs": [],
   "source": [
    "from pandas.plotting import autocorrelation_plot"
   ]
  },
  {
   "cell_type": "code",
   "execution_count": 225,
   "metadata": {},
   "outputs": [
    {
     "data": {
      "text/plain": [
       "<matplotlib.axes._subplots.AxesSubplot at 0x7f38797dd710>"
      ]
     },
     "execution_count": 225,
     "metadata": {},
     "output_type": "execute_result"
    },
    {
     "data": {
      "image/png": "[encoded data removed]",
      "text/plain": [
       "<Figure size 1152x648 with 1 Axes>"
      ]
     },
     "metadata": {
      "needs_background": "light"
     },
     "output_type": "display_data"
    }
   ],
   "source": [
    "autocorrelation_plot(serie)"
   ]
  },
  {
   "cell_type": "code",
   "execution_count": 226,
   "metadata": {},
   "outputs": [],
   "source": [
    "from statsmodels.tsa.seasonal import seasonal_decompose"
   ]
  },
  {
   "cell_type": "code",
   "execution_count": 246,
   "metadata": {},
   "outputs": [
    {
     "data": {
      "text/html": [
       "<div>\n",
       "<style scoped>\n",
       "    .dataframe tbody tr th:only-of-type {\n",
       "        vertical-align: middle;\n",
       "    }\n",
       "\n",
       "    .dataframe tbody tr th {\n",
       "        vertical-align: top;\n",
       "    }\n",
       "\n",
       "    .dataframe thead th {\n",
       "        text-align: right;\n",
       "    }\n",
       "</style>\n",
       "<table border=\"1\" class=\"dataframe\">\n",
       "  <thead>\n",
       "    <tr style=\"text-align: right;\">\n",
       "      <th></th>\n",
       "      <th>date</th>\n",
       "      <th>y</th>\n",
       "      <th>t+5</th>\n",
       "      <th>t+4</th>\n",
       "      <th>t+3</th>\n",
       "      <th>t+2</th>\n",
       "      <th>t+1</th>\n",
       "      <th>t</th>\n",
       "    </tr>\n",
       "  </thead>\n",
       "  <tbody>\n",
       "    <tr>\n",
       "      <td>0</td>\n",
       "      <td>2020-03-15 00:00:00</td>\n",
       "      <td>402</td>\n",
       "      <td>402</td>\n",
       "      <td>NaN</td>\n",
       "      <td>NaN</td>\n",
       "      <td>NaN</td>\n",
       "      <td>NaN</td>\n",
       "      <td>NaN</td>\n",
       "    </tr>\n",
       "    <tr>\n",
       "      <td>1</td>\n",
       "      <td>2020-03-16 00:00:00</td>\n",
       "      <td>518</td>\n",
       "      <td>518</td>\n",
       "      <td>402.0</td>\n",
       "      <td>NaN</td>\n",
       "      <td>NaN</td>\n",
       "      <td>NaN</td>\n",
       "      <td>NaN</td>\n",
       "    </tr>\n",
       "    <tr>\n",
       "      <td>2</td>\n",
       "      <td>2020-03-17 00:00:00</td>\n",
       "      <td>647</td>\n",
       "      <td>647</td>\n",
       "      <td>518.0</td>\n",
       "      <td>402.0</td>\n",
       "      <td>NaN</td>\n",
       "      <td>NaN</td>\n",
       "      <td>NaN</td>\n",
       "    </tr>\n",
       "    <tr>\n",
       "      <td>3</td>\n",
       "      <td>2020-03-18 00:00:00</td>\n",
       "      <td>814</td>\n",
       "      <td>814</td>\n",
       "      <td>647.0</td>\n",
       "      <td>518.0</td>\n",
       "      <td>402.0</td>\n",
       "      <td>NaN</td>\n",
       "      <td>NaN</td>\n",
       "    </tr>\n",
       "    <tr>\n",
       "      <td>4</td>\n",
       "      <td>2020-03-19 00:00:00</td>\n",
       "      <td>973</td>\n",
       "      <td>973</td>\n",
       "      <td>814.0</td>\n",
       "      <td>647.0</td>\n",
       "      <td>518.0</td>\n",
       "      <td>402.0</td>\n",
       "      <td>NaN</td>\n",
       "    </tr>\n",
       "    <tr>\n",
       "      <td>...</td>\n",
       "      <td>...</td>\n",
       "      <td>...</td>\n",
       "      <td>...</td>\n",
       "      <td>...</td>\n",
       "      <td>...</td>\n",
       "      <td>...</td>\n",
       "      <td>...</td>\n",
       "      <td>...</td>\n",
       "    </tr>\n",
       "    <tr>\n",
       "      <td>65</td>\n",
       "      <td>2020-05-19 00:00:00</td>\n",
       "      <td>33632</td>\n",
       "      <td>33632</td>\n",
       "      <td>33431.0</td>\n",
       "      <td>33139.0</td>\n",
       "      <td>32948.0</td>\n",
       "      <td>32745.0</td>\n",
       "      <td>32363.0</td>\n",
       "    </tr>\n",
       "    <tr>\n",
       "      <td>66</td>\n",
       "      <td>2020-05-20 00:00:00</td>\n",
       "      <td>33807</td>\n",
       "      <td>33807</td>\n",
       "      <td>33632.0</td>\n",
       "      <td>33431.0</td>\n",
       "      <td>33139.0</td>\n",
       "      <td>32948.0</td>\n",
       "      <td>32745.0</td>\n",
       "    </tr>\n",
       "    <tr>\n",
       "      <td>67</td>\n",
       "      <td>2020-05-21 00:00:00</td>\n",
       "      <td>33842</td>\n",
       "      <td>33842</td>\n",
       "      <td>33807.0</td>\n",
       "      <td>33632.0</td>\n",
       "      <td>33431.0</td>\n",
       "      <td>33139.0</td>\n",
       "      <td>32948.0</td>\n",
       "    </tr>\n",
       "    <tr>\n",
       "      <td>68</td>\n",
       "      <td>2020-05-22 00:00:00</td>\n",
       "      <td>33847</td>\n",
       "      <td>33847</td>\n",
       "      <td>33842.0</td>\n",
       "      <td>33807.0</td>\n",
       "      <td>33632.0</td>\n",
       "      <td>33431.0</td>\n",
       "      <td>33139.0</td>\n",
       "    </tr>\n",
       "    <tr>\n",
       "      <td>69</td>\n",
       "      <td>2020-05-23 00:00:00</td>\n",
       "      <td>33851</td>\n",
       "      <td>33851</td>\n",
       "      <td>33847.0</td>\n",
       "      <td>33842.0</td>\n",
       "      <td>33807.0</td>\n",
       "      <td>33632.0</td>\n",
       "      <td>33431.0</td>\n",
       "    </tr>\n",
       "  </tbody>\n",
       "</table>\n",
       "<p>70 rows × 8 columns</p>\n",
       "</div>"
      ],
      "text/plain": [
       "                   date      y    t+5      t+4      t+3      t+2      t+1  \\\n",
       "0   2020-03-15 00:00:00    402    402      NaN      NaN      NaN      NaN   \n",
       "1   2020-03-16 00:00:00    518    518    402.0      NaN      NaN      NaN   \n",
       "2   2020-03-17 00:00:00    647    647    518.0    402.0      NaN      NaN   \n",
       "3   2020-03-18 00:00:00    814    814    647.0    518.0    402.0      NaN   \n",
       "4   2020-03-19 00:00:00    973    973    814.0    647.0    518.0    402.0   \n",
       "..                  ...    ...    ...      ...      ...      ...      ...   \n",
       "65  2020-05-19 00:00:00  33632  33632  33431.0  33139.0  32948.0  32745.0   \n",
       "66  2020-05-20 00:00:00  33807  33807  33632.0  33431.0  33139.0  32948.0   \n",
       "67  2020-05-21 00:00:00  33842  33842  33807.0  33632.0  33431.0  33139.0   \n",
       "68  2020-05-22 00:00:00  33847  33847  33842.0  33807.0  33632.0  33431.0   \n",
       "69  2020-05-23 00:00:00  33851  33851  33847.0  33842.0  33807.0  33632.0   \n",
       "\n",
       "          t  \n",
       "0       NaN  \n",
       "1       NaN  \n",
       "2       NaN  \n",
       "3       NaN  \n",
       "4       NaN  \n",
       "..      ...  \n",
       "65  32363.0  \n",
       "66  32745.0  \n",
       "67  32948.0  \n",
       "68  33139.0  \n",
       "69  33431.0  \n",
       "\n",
       "[70 rows x 8 columns]"
      ]
     },
     "execution_count": 246,
     "metadata": {},
     "output_type": "execute_result"
    }
   ],
   "source": [
    "df_"
   ]
  },
  {
   "cell_type": "code",
   "execution_count": 259,
   "metadata": {},
   "outputs": [
    {
     "data": {
      "text/html": [
       "<div>\n",
       "<style scoped>\n",
       "    .dataframe tbody tr th:only-of-type {\n",
       "        vertical-align: middle;\n",
       "    }\n",
       "\n",
       "    .dataframe tbody tr th {\n",
       "        vertical-align: top;\n",
       "    }\n",
       "\n",
       "    .dataframe thead th {\n",
       "        text-align: right;\n",
       "    }\n",
       "</style>\n",
       "<table border=\"1\" class=\"dataframe\">\n",
       "  <thead>\n",
       "    <tr style=\"text-align: right;\">\n",
       "      <th></th>\n",
       "      <th>y</th>\n",
       "    </tr>\n",
       "    <tr>\n",
       "      <th>date</th>\n",
       "      <th></th>\n",
       "    </tr>\n",
       "  </thead>\n",
       "  <tbody>\n",
       "    <tr>\n",
       "      <td>2020-03-15</td>\n",
       "      <td>402</td>\n",
       "    </tr>\n",
       "    <tr>\n",
       "      <td>2020-03-16</td>\n",
       "      <td>518</td>\n",
       "    </tr>\n",
       "    <tr>\n",
       "      <td>2020-03-17</td>\n",
       "      <td>647</td>\n",
       "    </tr>\n",
       "    <tr>\n",
       "      <td>2020-03-18</td>\n",
       "      <td>814</td>\n",
       "    </tr>\n",
       "    <tr>\n",
       "      <td>2020-03-19</td>\n",
       "      <td>973</td>\n",
       "    </tr>\n",
       "    <tr>\n",
       "      <td>...</td>\n",
       "      <td>...</td>\n",
       "    </tr>\n",
       "    <tr>\n",
       "      <td>2020-05-19</td>\n",
       "      <td>33632</td>\n",
       "    </tr>\n",
       "    <tr>\n",
       "      <td>2020-05-20</td>\n",
       "      <td>33807</td>\n",
       "    </tr>\n",
       "    <tr>\n",
       "      <td>2020-05-21</td>\n",
       "      <td>33842</td>\n",
       "    </tr>\n",
       "    <tr>\n",
       "      <td>2020-05-22</td>\n",
       "      <td>33847</td>\n",
       "    </tr>\n",
       "    <tr>\n",
       "      <td>2020-05-23</td>\n",
       "      <td>33851</td>\n",
       "    </tr>\n",
       "  </tbody>\n",
       "</table>\n",
       "<p>70 rows × 1 columns</p>\n",
       "</div>"
      ],
      "text/plain": [
       "                y\n",
       "date             \n",
       "2020-03-15    402\n",
       "2020-03-16    518\n",
       "2020-03-17    647\n",
       "2020-03-18    814\n",
       "2020-03-19    973\n",
       "...           ...\n",
       "2020-05-19  33632\n",
       "2020-05-20  33807\n",
       "2020-05-21  33842\n",
       "2020-05-22  33847\n",
       "2020-05-23  33851\n",
       "\n",
       "[70 rows x 1 columns]"
      ]
     },
     "execution_count": 259,
     "metadata": {},
     "output_type": "execute_result"
    }
   ],
   "source": [
    "seriedf=df_.filter(['date','y'])\n",
    "seriedf['date']=pd.to_datetime(df['date'])\n",
    "seriedf=seriedf.set_index(seriedf.date)\n",
    "seriedf=seriedf.drop(['date'],axis=1)\n",
    "seriedf=seriedf.dropna()\n",
    "\n",
    "seriedf"
   ]
  },
  {
   "cell_type": "code",
   "execution_count": 260,
   "metadata": {},
   "outputs": [],
   "source": [
    "result=seasonal_decompose(seriedf)"
   ]
  },
  {
   "cell_type": "code",
   "execution_count": 261,
   "metadata": {},
   "outputs": [
    {
     "data": {
      "image/png": "[encoded data removed]",
      "text/plain": [
       "<Figure size 1152x648 with 4 Axes>"
      ]
     },
     "metadata": {
      "needs_background": "light"
     },
     "output_type": "display_data"
    }
   ],
   "source": [
    "from matplotlib.pyplot import figure\n",
    "import matplotlib.pyplot as plt\n",
    "%matplotlib inline\n",
    "#figure(num=None, figsize=(20,20), dpi=100, facecolor='w', edgecolor='k')\n",
    "plt.rcParams[\"figure.figsize\"] = [16,9]\n",
    "result.plot()\n",
    "\n",
    "plt.show()"
   ]
  },
  {
   "cell_type": "code",
   "execution_count": 262,
   "metadata": {},
   "outputs": [],
   "source": [
    "from statsmodels.tsa.stattools import adfuller\n",
    "result=adfuller(serie)"
   ]
  },
  {
   "cell_type": "code",
   "execution_count": 263,
   "metadata": {},
   "outputs": [
    {
     "name": "stdout",
     "output_type": "stream",
     "text": [
      " ADF Statistic: -3.615425 \n",
      " p-value: 0.005473 \n",
      " Critical Values: \n",
      " \t1%: -3.534 \n",
      " \t5%: -2.906 \n",
      " \t10%: -2.591 \n"
     ]
    }
   ],
   "source": [
    "print( ' ADF Statistic: %f ' % result[0])\n",
    "print( ' p-value: %f ' % result[1])\n",
    "print( ' Critical Values: ' )\n",
    "for key, value in result[4].items():\n",
    "    print( ' \\t%s: %.3f ' % (key, value))"
   ]
  },
  {
   "cell_type": "code",
   "execution_count": 264,
   "metadata": {},
   "outputs": [],
   "source": [
    "from statsmodels.graphics.tsaplots import plot_acf"
   ]
  },
  {
   "cell_type": "code",
   "execution_count": 265,
   "metadata": {},
   "outputs": [
    {
     "data": {
      "image/png": "[encoded data removed]",
      "text/plain": [
       "<Figure size 1152x648 with 1 Axes>"
      ]
     },
     "execution_count": 265,
     "metadata": {},
     "output_type": "execute_result"
    },
    {
     "data": {
      "image/png": "[encoded data removed]",
      "text/plain": [
       "<Figure size 1152x648 with 1 Axes>"
      ]
     },
     "metadata": {
      "needs_background": "light"
     },
     "output_type": "display_data"
    }
   ],
   "source": [
    "plot_acf(serie,lags=5)"
   ]
  },
  {
   "cell_type": "code",
   "execution_count": 266,
   "metadata": {},
   "outputs": [],
   "source": [
    "from statsmodels.tsa.arima_model import ARIMA"
   ]
  },
  {
   "cell_type": "code",
   "execution_count": 267,
   "metadata": {},
   "outputs": [
    {
     "data": {
      "text/plain": [
       "20498"
      ]
     },
     "execution_count": 267,
     "metadata": {},
     "output_type": "execute_result"
    }
   ],
   "source": [
    "X=serie\n",
    "size = int(len(X) * 0.66)\n",
    "train, test = list(X[0:size]),list(X[size:len(X)])\n",
    "history = [x for x in train]\n",
    "predictions = list()\n",
    "\n",
    "\n",
    "test[0]\n",
    "#model = ARIMA(serie, order=(5,1,0))\n",
    "#model_fit = model.fit(disp=0)"
   ]
  },
  {
   "cell_type": "code",
   "execution_count": 268,
   "metadata": {},
   "outputs": [
    {
     "name": "stdout",
     "output_type": "stream",
     "text": [
      " predicted=20259.707422, expected=20498.000000 \n",
      " predicted=21550.053694, expected=21952.000000 \n",
      " predicted=23210.289151, expected=23064.000000 \n",
      " predicted=24254.124633, expected=23952.000000 \n",
      " predicted=25059.514622, expected=25067.000000 \n",
      " predicted=26211.137526, expected=26159.000000 \n",
      " predicted=27158.873932, expected=27064.000000 \n"
     ]
    },
    {
     "name": "stderr",
     "output_type": "stream",
     "text": [
      "/home/naubergois/miniconda3/envs/nauber/lib/python3.6/site-packages/statsmodels/base/model.py:548: HessianInversionWarning: Inverting hessian failed, no bse or cov_params available\n",
      "  'available', HessianInversionWarning)\n"
     ]
    },
    {
     "name": "stdout",
     "output_type": "stream",
     "text": [
      " predicted=28037.994536, expected=27953.000000 \n",
      " predicted=28933.981755, expected=28837.000000 \n",
      " predicted=29719.244442, expected=29554.000000 \n",
      " predicted=30302.606939, expected=30260.000000 \n",
      " predicted=31014.781858, expected=30961.000000 \n",
      " predicted=31647.356132, expected=31493.000000 \n",
      " predicted=32051.894912, expected=31983.000000 \n",
      " predicted=32529.181710, expected=32363.000000 \n",
      " predicted=32762.786214, expected=32745.000000 \n",
      " predicted=33121.046240, expected=32948.000000 \n",
      " predicted=33181.473969, expected=33139.000000 \n",
      " predicted=33356.238888, expected=33431.000000 \n",
      " predicted=33675.130665, expected=33632.000000 \n",
      " predicted=33806.101015, expected=33807.000000 \n",
      " predicted=34033.023539, expected=33842.000000 \n",
      " predicted=33939.351851, expected=33847.000000 \n",
      " predicted=33880.429024, expected=33851.000000 \n"
     ]
    }
   ],
   "source": [
    "\n",
    "for t in range(len(test)):\n",
    "    model = ARIMA(history, order=(5,1,0))\n",
    "    model_fit = model.fit(disp=0)\n",
    "    output = model_fit.forecast()\n",
    "    yhat = output[0]\n",
    "    predictions.append(yhat)\n",
    "    obs = test[t]\n",
    "    history.append(obs)\n",
    "    print( ' predicted=%f, expected=%f ' % (yhat, obs))\n",
    "\n",
    "\n",
    "\n",
    "old_prediction=predictions"
   ]
  },
  {
   "cell_type": "code",
   "execution_count": null,
   "metadata": {},
   "outputs": [],
   "source": []
  },
  {
   "cell_type": "code",
   "execution_count": 269,
   "metadata": {},
   "outputs": [
    {
     "name": "stdout",
     "output_type": "stream",
     "text": [
      "                             ARIMA Model Results                              \n",
      "==============================================================================\n",
      "Dep. Variable:                    D.y   No. Observations:                   68\n",
      "Model:                 ARIMA(5, 1, 0)   Log Likelihood                -421.837\n",
      "Method:                       css-mle   S.D. of innovations            117.262\n",
      "Date:                Sun, 24 May 2020   AIC                            857.674\n",
      "Time:                        15:37:19   BIC                            873.211\n",
      "Sample:                             1   HQIC                           863.830\n",
      "                                                                              \n",
      "==============================================================================\n",
      "                 coef    std err          z      P>|z|      [0.025      0.975]\n",
      "------------------------------------------------------------------------------\n",
      "const        302.3637    262.265      1.153      0.249    -211.667     816.395\n",
      "ar.L1.D.y      0.7034      0.118      5.963      0.000       0.472       0.935\n",
      "ar.L2.D.y      0.0453      0.147      0.309      0.757      -0.242       0.333\n",
      "ar.L3.D.y      0.3676      0.137      2.688      0.007       0.100       0.636\n",
      "ar.L4.D.y      0.0274      0.144      0.190      0.849      -0.255       0.310\n",
      "ar.L5.D.y     -0.1881      0.118     -1.593      0.111      -0.419       0.043\n",
      "                                    Roots                                    \n",
      "=============================================================================\n",
      "                  Real          Imaginary           Modulus         Frequency\n",
      "-----------------------------------------------------------------------------\n",
      "AR.1            1.0427           -0.0000j            1.0427           -0.0000\n",
      "AR.2            1.5760           -0.0000j            1.5760           -0.0000\n",
      "AR.3           -0.3065           -1.2826j            1.3187           -0.2873\n",
      "AR.4           -0.3065           +1.2826j            1.3187            0.2873\n",
      "AR.5           -1.8602           -0.0000j            1.8602           -0.5000\n",
      "-----------------------------------------------------------------------------\n"
     ]
    }
   ],
   "source": [
    "print(model_fit.summary())"
   ]
  },
  {
   "cell_type": "code",
   "execution_count": 270,
   "metadata": {},
   "outputs": [
    {
     "name": "stdout",
     "output_type": "stream",
     "text": [
      " Test RMSE: 149.029 \n"
     ]
    }
   ],
   "source": [
    "\n",
    "from math import sqrt\n",
    "from sklearn.metrics import mean_squared_error\n",
    "from matplotlib import pyplot\n",
    "rmse = sqrt(mean_squared_error(test, predictions))\n",
    "print( ' Test RMSE: %.3f ' % rmse)\n",
    "\n",
    "output = model_fit.forecast(30)\n",
    "predictions=list()"
   ]
  },
  {
   "cell_type": "code",
   "execution_count": 271,
   "metadata": {},
   "outputs": [],
   "source": [
    "for yhat in output[0]:\n",
    "    predictions.append(yhat)"
   ]
  },
  {
   "cell_type": "code",
   "execution_count": 272,
   "metadata": {},
   "outputs": [
    {
     "data": {
      "text/plain": [
       "0       402\n",
       "1       518\n",
       "2       647\n",
       "3       814\n",
       "4       973\n",
       "      ...  \n",
       "65    33632\n",
       "66    33807\n",
       "67    33842\n",
       "68    33847\n",
       "69    33851\n",
       "Name: t+5, Length: 70, dtype: int64"
      ]
     },
     "execution_count": 272,
     "metadata": {},
     "output_type": "execute_result"
    }
   ],
   "source": [
    "X"
   ]
  },
  {
   "cell_type": "code",
   "execution_count": 273,
   "metadata": {},
   "outputs": [
    {
     "data": {
      "text/html": [
       "\n",
       "<div id=\"altair-viz-0d30d6360832442b960f20e2599f12a2\"></div>\n",
       "<script type=\"text/javascript\">\n",
       "  (function(spec, embedOpt){\n",
       "    const outputDiv = document.getElementById(\"altair-viz-0d30d6360832442b960f20e2599f12a2\");\n",
       "    const paths = {\n",
       "      \"vega\": \"https://cdn.jsdelivr.net/npm//vega@5?noext\",\n",
       "      \"vega-lib\": \"https://cdn.jsdelivr.net/npm//vega-lib?noext\",\n",
       "      \"vega-lite\": \"https://cdn.jsdelivr.net/npm//vega-lite@4.0.2?noext\",\n",
       "      \"vega-embed\": \"https://cdn.jsdelivr.net/npm//vega-embed@6?noext\",\n",
       "    };\n",
       "\n",
       "    function loadScript(lib) {\n",
       "      return new Promise(function(resolve, reject) {\n",
       "        var s = document.createElement('script');\n",
       "        s.src = paths[lib];\n",
       "        s.async = true;\n",
       "        s.onload = () => resolve(paths[lib]);\n",
       "        s.onerror = () => reject(`Error loading script: ${paths[lib]}`);\n",
       "        document.getElementsByTagName(\"head\")[0].appendChild(s);\n",
       "      });\n",
       "    }\n",
       "\n",
       "    function showError(err) {\n",
       "      outputDiv.innerHTML = `<div class=\"error\" style=\"color:red;\">${err}</div>`;\n",
       "      throw err;\n",
       "    }\n",
       "\n",
       "    function displayChart(vegaEmbed) {\n",
       "      vegaEmbed(outputDiv, spec, embedOpt)\n",
       "        .catch(err => showError(`Javascript Error: ${err.message}<br>This usually means there's a typo in your chart specification. See the javascript console for the full traceback.`));\n",
       "    }\n",
       "\n",
       "    if(typeof define === \"function\" && define.amd) {\n",
       "      requirejs.config({paths});\n",
       "      require([\"vega-embed\"], displayChart, err => showError(`Error loading script: ${err.message}`));\n",
       "    } else if (typeof vegaEmbed === \"function\") {\n",
       "      displayChart(vegaEmbed);\n",
       "    } else {\n",
       "      loadScript(\"vega\")\n",
       "        .then(() => loadScript(\"vega-lite\"))\n",
       "        .then(() => loadScript(\"vega-embed\"))\n",
       "        .catch(showError)\n",
       "        .then(() => displayChart(vegaEmbed));\n",
       "    }\n",
       "  })({\"config\": {\"view\": {\"continuousWidth\": 400, \"continuousHeight\": 300}}, \"data\": {\"name\": \"data-8a58bc4aa5d3f76d29b98e8768248fb7\"}, \"mark\": \"line\", \"encoding\": {\"color\": {\"type\": \"nominal\", \"field\": \"class\"}, \"x\": {\"type\": \"quantitative\", \"field\": \"x\"}, \"y\": {\"type\": \"quantitative\", \"field\": \"y\"}}, \"$schema\": \"https://vega.github.io/schema/vega-lite/v4.0.2.json\", \"datasets\": {\"data-8a58bc4aa5d3f76d29b98e8768248fb7\": [{\"class\": \"real\", \"x\": 0.0, \"y\": 402.0}, {\"class\": \"real\", \"x\": 1.0, \"y\": 518.0}, {\"class\": \"real\", \"x\": 2.0, \"y\": 647.0}, {\"class\": \"real\", \"x\": 3.0, \"y\": 814.0}, {\"class\": \"real\", \"x\": 4.0, \"y\": 973.0}, {\"class\": \"real\", \"x\": 5.0, \"y\": 1200.0}, {\"class\": \"real\", \"x\": 6.0, \"y\": 1365.0}, {\"class\": \"real\", \"x\": 7.0, \"y\": 1507.0}, {\"class\": \"real\", \"x\": 8.0, \"y\": 1669.0}, {\"class\": \"real\", \"x\": 9.0, \"y\": 1841.0}, {\"class\": \"real\", \"x\": 10.0, \"y\": 2018.0}, {\"class\": \"real\", \"x\": 11.0, \"y\": 2164.0}, {\"class\": \"real\", \"x\": 12.0, \"y\": 2303.0}, {\"class\": \"real\", \"x\": 13.0, \"y\": 2419.0}, {\"class\": \"real\", \"x\": 14.0, \"y\": 2537.0}, {\"class\": \"real\", \"x\": 15.0, \"y\": 2695.0}, {\"class\": \"real\", \"x\": 16.0, \"y\": 2820.0}, {\"class\": \"real\", \"x\": 17.0, \"y\": 3075.0}, {\"class\": \"real\", \"x\": 18.0, \"y\": 3247.0}, {\"class\": \"real\", \"x\": 19.0, \"y\": 3404.0}, {\"class\": \"real\", \"x\": 20.0, \"y\": 3582.0}, {\"class\": \"real\", \"x\": 21.0, \"y\": 3794.0}, {\"class\": \"real\", \"x\": 22.0, \"y\": 4023.0}, {\"class\": \"real\", \"x\": 23.0, \"y\": 4261.0}, {\"class\": \"real\", \"x\": 24.0, \"y\": 4544.0}, {\"class\": \"real\", \"x\": 25.0, \"y\": 4866.0}, {\"class\": \"real\", \"x\": 26.0, \"y\": 5334.0}, {\"class\": \"real\", \"x\": 27.0, \"y\": 5711.0}, {\"class\": \"real\", \"x\": 28.0, \"y\": 6110.0}, {\"class\": \"real\", \"x\": 29.0, \"y\": 6586.0}, {\"class\": \"real\", \"x\": 30.0, \"y\": 7112.0}, {\"class\": \"real\", \"x\": 31.0, \"y\": 7706.0}, {\"class\": \"real\", \"x\": 32.0, \"y\": 8212.0}, {\"class\": \"real\", \"x\": 33.0, \"y\": 8799.0}, {\"class\": \"real\", \"x\": 34.0, \"y\": 9372.0}, {\"class\": \"real\", \"x\": 35.0, \"y\": 10005.0}, {\"class\": \"real\", \"x\": 36.0, \"y\": 11117.0}, {\"class\": \"real\", \"x\": 37.0, \"y\": 11826.0}, {\"class\": \"real\", \"x\": 38.0, \"y\": 12618.0}, {\"class\": \"real\", \"x\": 39.0, \"y\": 13456.0}, {\"class\": \"real\", \"x\": 40.0, \"y\": 14454.0}, {\"class\": \"real\", \"x\": 41.0, \"y\": 15481.0}, {\"class\": \"real\", \"x\": 42.0, \"y\": 16359.0}, {\"class\": \"real\", \"x\": 43.0, \"y\": 17351.0}, {\"class\": \"real\", \"x\": 44.0, \"y\": 18417.0}, {\"class\": \"real\", \"x\": 45.0, \"y\": 19312.0}, {\"class\": \"real\", \"x\": 46.0, \"y\": 20498.0}, {\"class\": \"real\", \"x\": 47.0, \"y\": 21952.0}, {\"class\": \"real\", \"x\": 48.0, \"y\": 23064.0}, {\"class\": \"real\", \"x\": 49.0, \"y\": 23952.0}, {\"class\": \"real\", \"x\": 50.0, \"y\": 25067.0}, {\"class\": \"real\", \"x\": 51.0, \"y\": 26159.0}, {\"class\": \"real\", \"x\": 52.0, \"y\": 27064.0}, {\"class\": \"real\", \"x\": 53.0, \"y\": 27953.0}, {\"class\": \"real\", \"x\": 54.0, \"y\": 28837.0}, {\"class\": \"real\", \"x\": 55.0, \"y\": 29554.0}, {\"class\": \"real\", \"x\": 56.0, \"y\": 30260.0}, {\"class\": \"real\", \"x\": 57.0, \"y\": 30961.0}, {\"class\": \"real\", \"x\": 58.0, \"y\": 31493.0}, {\"class\": \"real\", \"x\": 59.0, \"y\": 31983.0}, {\"class\": \"real\", \"x\": 60.0, \"y\": 32363.0}, {\"class\": \"real\", \"x\": 61.0, \"y\": 32745.0}, {\"class\": \"real\", \"x\": 62.0, \"y\": 32948.0}, {\"class\": \"real\", \"x\": 63.0, \"y\": 33139.0}, {\"class\": \"real\", \"x\": 64.0, \"y\": 33431.0}, {\"class\": \"real\", \"x\": 65.0, \"y\": 33632.0}, {\"class\": \"real\", \"x\": 66.0, \"y\": 33807.0}, {\"class\": \"real\", \"x\": 67.0, \"y\": 33842.0}, {\"class\": \"real\", \"x\": 68.0, \"y\": 33847.0}, {\"class\": \"real\", \"x\": 69.0, \"y\": 33851.0}, {\"class\": \"predicted\", \"x\": 70.0, \"y\": 33880.0}, {\"class\": \"predicted\", \"x\": 71.0, \"y\": 33897.0}, {\"class\": \"predicted\", \"x\": 72.0, \"y\": 33894.0}, {\"class\": \"predicted\", \"x\": 73.0, \"y\": 33911.0}, {\"class\": \"predicted\", \"x\": 74.0, \"y\": 33944.0}, {\"class\": \"predicted\", \"x\": 75.0, \"y\": 33973.0}, {\"class\": \"predicted\", \"x\": 76.0, \"y\": 34012.0}, {\"class\": \"predicted\", \"x\": 77.0, \"y\": 34067.0}, {\"class\": \"predicted\", \"x\": 78.0, \"y\": 34130.0}, {\"class\": \"predicted\", \"x\": 79.0, \"y\": 34199.0}, {\"class\": \"predicted\", \"x\": 80.0, \"y\": 34279.0}, {\"class\": \"predicted\", \"x\": 81.0, \"y\": 34370.0}, {\"class\": \"predicted\", \"x\": 82.0, \"y\": 34467.0}, {\"class\": \"predicted\", \"x\": 83.0, \"y\": 34572.0}, {\"class\": \"predicted\", \"x\": 84.0, \"y\": 34687.0}, {\"class\": \"predicted\", \"x\": 85.0, \"y\": 34809.0}, {\"class\": \"predicted\", \"x\": 86.0, \"y\": 34938.0}, {\"class\": \"predicted\", \"x\": 87.0, \"y\": 35074.0}, {\"class\": \"predicted\", \"x\": 88.0, \"y\": 35217.0}, {\"class\": \"predicted\", \"x\": 89.0, \"y\": 35367.0}, {\"class\": \"predicted\", \"x\": 90.0, \"y\": 35523.0}, {\"class\": \"predicted\", \"x\": 91.0, \"y\": 35685.0}, {\"class\": \"predicted\", \"x\": 92.0, \"y\": 35852.0}, {\"class\": \"predicted\", \"x\": 93.0, \"y\": 36025.0}, {\"class\": \"predicted\", \"x\": 94.0, \"y\": 36204.0}, {\"class\": \"predicted\", \"x\": 95.0, \"y\": 36387.0}, {\"class\": \"predicted\", \"x\": 96.0, \"y\": 36576.0}, {\"class\": \"predicted\", \"x\": 97.0, \"y\": 36769.0}, {\"class\": \"predicted\", \"x\": 98.0, \"y\": 36966.0}, {\"class\": \"predicted\", \"x\": 99.0, \"y\": 37168.0}]}}, {\"mode\": \"vega-lite\"});\n",
       "</script>"
      ],
      "text/plain": [
       "alt.Chart(...)"
      ]
     },
     "execution_count": 273,
     "metadata": {},
     "output_type": "execute_result"
    }
   ],
   "source": [
    "\n",
    "# plot forecasts against actual outcomes\n",
    "\n",
    "import altair as alt\n",
    "\n",
    "dfa=pd.DataFrame()\n",
    "i=0\n",
    "\n",
    "\n",
    "for x in X:\n",
    "    \n",
    "    dfa=dfa.append({'x':i,'y':int(x),'class':'real'},ignore_index=True)\n",
    "    i=i+1\n",
    "#i=0\n",
    "#for x in old_prediction:\n",
    "    \n",
    "#    dfa=dfa.append({'x':i,'y':int(x),'class':'predicted'},ignore_index=True)\n",
    "#    i=i+1\n",
    "for x in predictions:\n",
    "    dfa=dfa.append({'x':i,'y':int(x),'class':'predicted'},ignore_index=True)\n",
    "    i=i+1\n",
    "                    \n",
    "alt.Chart(dfa).mark_line().encode(\n",
    "x='x',\n",
    "y='y',\n",
    "color='class'\n",
    ")\n",
    "                    "
   ]
  },
  {
   "cell_type": "code",
   "execution_count": 274,
   "metadata": {},
   "outputs": [
    {
     "name": "stdout",
     "output_type": "stream",
     "text": [
      " Coefficients: [ 5.60187168e+01  6.95581996e-01 -2.45890605e-01  7.98067282e-01\n",
      "  8.02793457e-02  1.04050033e+00 -1.84062831e-01  6.02644487e-01\n",
      " -1.53672671e+00 -2.89525575e-01 -4.43481824e-01 -4.65891083e-01\n",
      "  1.22341494e-01 -4.61357546e-01  4.11706773e-01 -6.75937702e-01\n",
      "  5.94300139e-02 -5.62060923e-01  1.61305936e+00  9.08761838e-01\n",
      "  6.57631144e-01  9.37432686e-01 -4.62886954e-01  1.03616780e-01\n",
      " -1.77477459e+00  2.66266520e-02 -9.83626049e-01  1.38988583e+00\n",
      " -3.53177725e+00  3.61969509e+00] \n",
      " predicted=33370.636545, expected=33139.000000 \n",
      " predicted=32279.111036, expected=33431.000000 \n",
      " predicted=33682.173823, expected=33632.000000 \n",
      " predicted=35899.637103, expected=33807.000000 \n",
      " predicted=36709.331385, expected=33842.000000 \n",
      " predicted=38512.776634, expected=33847.000000 \n",
      " predicted=40719.752960, expected=33851.000000 \n",
      " Test RMSE: 3442.030 \n"
     ]
    },
    {
     "data": {
      "image/png": "[encoded data removed]",
      "text/plain": [
       "<Figure size 1152x648 with 1 Axes>"
      ]
     },
     "metadata": {
      "needs_background": "light"
     },
     "output_type": "display_data"
    }
   ],
   "source": [
    "from statsmodels.tsa.ar_model import AutoReg\n",
    "from sklearn.metrics import mean_squared_error\n",
    "from math import sqrt\n",
    "# load dataset\n",
    "\n",
    "# split dataset\n",
    "X = list(serie)\n",
    "train, test = X[1:len(X)-7], X[len(X)-7:]\n",
    "# train autoregression\n",
    "model = AutoReg(train, lags=29)\n",
    "model_fit = model.fit()\n",
    "print( ' Coefficients: %s ' % model_fit.params)\n",
    "# make predictions\n",
    "predictions = model_fit.predict(start=len(train), end=len(train)+len(test)-1, dynamic=False)\n",
    "for i in range(len(predictions)):\n",
    "    print( ' predicted=%f, expected=%f ' % (predictions[i], test[i]))\n",
    "rmse = sqrt(mean_squared_error(test, predictions))\n",
    "print( ' Test RMSE: %.3f ' % rmse)\n",
    "# plot results\n",
    "pyplot.plot(test)\n",
    "pyplot.plot(predictions, color='red')\n",
    "pyplot.show()"
   ]
  },
  {
   "cell_type": "code",
   "execution_count": null,
   "metadata": {},
   "outputs": [],
   "source": []
  }
 ],
 "metadata": {
  "kernelspec": {
   "display_name": "Python 3",
   "language": "python",
   "name": "python3"
  },
  "language_info": {
   "codemirror_mode": {
    "name": "ipython",
    "version": 3
   },
   "file_extension": ".py",
   "mimetype": "text/x-python",
   "name": "python",
   "nbconvert_exporter": "python",
   "pygments_lexer": "ipython3",
   "version": "3.6.7"
  }
 },
 "nbformat": 4,
 "nbformat_minor": 4
}
