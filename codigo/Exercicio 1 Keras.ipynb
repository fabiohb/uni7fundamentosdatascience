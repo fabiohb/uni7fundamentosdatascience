{
 "cells": [
  {
   "cell_type": "code",
   "execution_count": 1,
   "metadata": {},
   "outputs": [
    {
     "name": "stdout",
     "output_type": "stream",
     "text": [
      "1.15.2\n"
     ]
    }
   ],
   "source": [
    "import tensorflow as tf\n",
    "print(tf.__version__)"
   ]
  },
  {
   "cell_type": "code",
   "execution_count": 8,
   "metadata": {},
   "outputs": [],
   "source": [
    "import pandas as pd\n",
    "import numpy as np\n",
    "import matplotlib.pyplot as plt"
   ]
  },
  {
   "cell_type": "code",
   "execution_count": 9,
   "metadata": {},
   "outputs": [],
   "source": [
    "from tensorflow.keras.datasets import fashion_mnist"
   ]
  },
  {
   "cell_type": "code",
   "execution_count": 43,
   "metadata": {},
   "outputs": [],
   "source": [
    "(X_train,y_train),(X_test,y_test)=fashion_mnist.load_data()"
   ]
  },
  {
   "cell_type": "code",
   "execution_count": 44,
   "metadata": {},
   "outputs": [
    {
     "data": {
      "text/plain": [
       "((60000, 28, 28), (10000, 28, 28))"
      ]
     },
     "execution_count": 44,
     "metadata": {},
     "output_type": "execute_result"
    }
   ],
   "source": [
    "X_train.shape,X_test.shape"
   ]
  },
  {
   "cell_type": "code",
   "execution_count": 45,
   "metadata": {},
   "outputs": [
    {
     "data": {
      "image/png": "[encoded data removed]",
      "text/plain": [
       "<Figure size 432x288 with 1 Axes>"
      ]
     },
     "metadata": {
      "needs_background": "light"
     },
     "output_type": "display_data"
    }
   ],
   "source": [
    "plt.figure()\n",
    "plt.imshow(X_train[1])\n",
    "plt.show()"
   ]
  },
  {
   "cell_type": "code",
   "execution_count": 46,
   "metadata": {},
   "outputs": [
    {
     "name": "stdout",
     "output_type": "stream",
     "text": [
      "['0 Top/T-shirt', '1 Trouser', '2 Pullover', '3 Dress', '4 Coat', '5 Sandal', '6 Shirt', '7 Sneaker', '8 Bag', '9 Ankle boot']\n"
     ]
    }
   ],
   "source": [
    "class_names = ['0 Top/T-shirt', '1 Trouser', '2 Pullover', '3 Dress', '4 Coat', '5 Sandal', '6 Shirt', '7 Sneaker', '8 Bag', '9 Ankle boot']\n",
    "print(class_names)"
   ]
  },
  {
   "cell_type": "code",
   "execution_count": 47,
   "metadata": {},
   "outputs": [],
   "source": [
    "X_train=X_train.reshape(-1,28*28)"
   ]
  },
  {
   "cell_type": "code",
   "execution_count": 48,
   "metadata": {},
   "outputs": [],
   "source": [
    "X_test=X_test.reshape(-1,28*28)"
   ]
  },
  {
   "cell_type": "code",
   "execution_count": 49,
   "metadata": {},
   "outputs": [],
   "source": [
    "model=tf.keras.Sequential()"
   ]
  },
  {
   "cell_type": "code",
   "execution_count": 50,
   "metadata": {},
   "outputs": [],
   "source": [
    "model.add(tf.keras.layers.Dense(units=128,activation='relu',input_shape=(784,)))"
   ]
  },
  {
   "cell_type": "code",
   "execution_count": 51,
   "metadata": {},
   "outputs": [],
   "source": [
    "model.add(tf.keras.layers.Dropout(0.3))"
   ]
  },
  {
   "cell_type": "code",
   "execution_count": 52,
   "metadata": {},
   "outputs": [],
   "source": [
    "model.add(tf.keras.layers.Dense(units=10,activation='softmax'))"
   ]
  },
  {
   "cell_type": "code",
   "execution_count": 53,
   "metadata": {},
   "outputs": [],
   "source": [
    "model.compile(optimizer='adam',loss='sparse_categorical_crossentropy',metrics=['sparse_categorical_accuracy'])"
   ]
  },
  {
   "cell_type": "code",
   "execution_count": 54,
   "metadata": {},
   "outputs": [
    {
     "name": "stdout",
     "output_type": "stream",
     "text": [
      "Model: \"sequential_1\"\n",
      "_________________________________________________________________\n",
      "Layer (type)                 Output Shape              Param #   \n",
      "=================================================================\n",
      "dense_2 (Dense)              (None, 128)               100480    \n",
      "_________________________________________________________________\n",
      "dropout_1 (Dropout)          (None, 128)               0         \n",
      "_________________________________________________________________\n",
      "dense_3 (Dense)              (None, 10)                1290      \n",
      "=================================================================\n",
      "Total params: 101,770\n",
      "Trainable params: 101,770\n",
      "Non-trainable params: 0\n",
      "_________________________________________________________________\n"
     ]
    }
   ],
   "source": [
    "model.summary()"
   ]
  },
  {
   "cell_type": "code",
   "execution_count": 55,
   "metadata": {},
   "outputs": [
    {
     "name": "stdout",
     "output_type": "stream",
     "text": [
      "Train on 60000 samples\n",
      "Epoch 1/20\n",
      "60000/60000 [==============================] - 5s 81us/sample - loss: 2.6623 - sparse_categorical_accuracy: 0.5449\n",
      "Epoch 2/20\n",
      "60000/60000 [==============================] - 5s 79us/sample - loss: 1.0825 - sparse_categorical_accuracy: 0.5930\n",
      "Epoch 3/20\n",
      "60000/60000 [==============================] - 5s 86us/sample - loss: 0.9978 - sparse_categorical_accuracy: 0.6243\n",
      "Epoch 4/20\n",
      "60000/60000 [==============================] - 6s 95us/sample - loss: 0.9931 - sparse_categorical_accuracy: 0.6303\n",
      "Epoch 5/20\n",
      "60000/60000 [==============================] - 5s 85us/sample - loss: 0.9568 - sparse_categorical_accuracy: 0.6418\n",
      "Epoch 6/20\n",
      "60000/60000 [==============================] - 5s 85us/sample - loss: 0.9294 - sparse_categorical_accuracy: 0.6542\n",
      "Epoch 7/20\n",
      "60000/60000 [==============================] - 5s 80us/sample - loss: 0.9155 - sparse_categorical_accuracy: 0.6620\n",
      "Epoch 8/20\n",
      "60000/60000 [==============================] - 5s 81us/sample - loss: 0.9166 - sparse_categorical_accuracy: 0.6613\n",
      "Epoch 9/20\n",
      "60000/60000 [==============================] - 5s 85us/sample - loss: 0.9136 - sparse_categorical_accuracy: 0.6664\n",
      "Epoch 10/20\n",
      "60000/60000 [==============================] - 5s 84us/sample - loss: 0.8875 - sparse_categorical_accuracy: 0.6733\n",
      "Epoch 11/20\n",
      "60000/60000 [==============================] - 5s 85us/sample - loss: 0.8881 - sparse_categorical_accuracy: 0.6733\n",
      "Epoch 12/20\n",
      "60000/60000 [==============================] - 5s 84us/sample - loss: 0.8951 - sparse_categorical_accuracy: 0.6723\n",
      "Epoch 13/20\n",
      "60000/60000 [==============================] - 5s 83us/sample - loss: 0.8865 - sparse_categorical_accuracy: 0.6771\n",
      "Epoch 14/20\n",
      "60000/60000 [==============================] - 5s 87us/sample - loss: 0.8868 - sparse_categorical_accuracy: 0.6755\n",
      "Epoch 15/20\n",
      "60000/60000 [==============================] - 5s 88us/sample - loss: 0.8851 - sparse_categorical_accuracy: 0.6774\n",
      "Epoch 16/20\n",
      "60000/60000 [==============================] - 5s 86us/sample - loss: 0.8970 - sparse_categorical_accuracy: 0.6722\n",
      "Epoch 17/20\n",
      "60000/60000 [==============================] - 5s 82us/sample - loss: 0.8699 - sparse_categorical_accuracy: 0.6791\n",
      "Epoch 18/20\n",
      "60000/60000 [==============================] - 5s 82us/sample - loss: 0.8740 - sparse_categorical_accuracy: 0.6789\n",
      "Epoch 19/20\n",
      "60000/60000 [==============================] - 5s 88us/sample - loss: 0.8974 - sparse_categorical_accuracy: 0.6750\n",
      "Epoch 20/20\n",
      "60000/60000 [==============================] - 5s 87us/sample - loss: 0.9087 - sparse_categorical_accuracy: 0.6756\n"
     ]
    },
    {
     "data": {
      "text/plain": [
       "<tensorflow.python.keras.callbacks.History at 0x7fb5c66ecef0>"
      ]
     },
     "execution_count": 55,
     "metadata": {},
     "output_type": "execute_result"
    }
   ],
   "source": [
    "model.fit(X_train,y_train,epochs=20)"
   ]
  },
  {
   "cell_type": "code",
   "execution_count": 31,
   "metadata": {},
   "outputs": [
    {
     "name": "stdout",
     "output_type": "stream",
     "text": [
      "10000/10000 [==============================] - 0s 43us/sample - loss: 4.9073 - sparse_categorical_accuracy: 0.1075\n"
     ]
    }
   ],
   "source": [
    "test_loss,test_accuracy=model.evaluate(X_test,y_test)"
   ]
  },
  {
   "cell_type": "code",
   "execution_count": 32,
   "metadata": {},
   "outputs": [
    {
     "name": "stdout",
     "output_type": "stream",
     "text": [
      "0.1075\n"
     ]
    }
   ],
   "source": [
    "print(test_accuracy)"
   ]
  },
  {
   "cell_type": "code",
   "execution_count": 56,
   "metadata": {},
   "outputs": [],
   "source": [
    "y_pred=model.predict_classes(X_test)"
   ]
  },
  {
   "cell_type": "code",
   "execution_count": 57,
   "metadata": {},
   "outputs": [],
   "source": [
    "from sklearn.metrics import confusion_matrix,accuracy_score\n",
    "\n"
   ]
  },
  {
   "cell_type": "code",
   "execution_count": 58,
   "metadata": {},
   "outputs": [],
   "source": [
    "cm=confusion_matrix(y_test,y_pred)"
   ]
  },
  {
   "cell_type": "code",
   "execution_count": 59,
   "metadata": {},
   "outputs": [
    {
     "name": "stdout",
     "output_type": "stream",
     "text": [
      "[[942   2   0  28   6   0  17   0   5   0]\n",
      " [ 13 944   0  32   4   0   6   0   1   0]\n",
      " [133   1   0   7 616   0 243   0   0   0]\n",
      " [132  12   0 803  30   0  22   0   1   0]\n",
      " [ 37   0   0  21 853   0  88   0   1   0]\n",
      " [  2   0   0   0   0 899   0  53   4  42]\n",
      " [438   0   0  15 241   0 299   0   7   0]\n",
      " [  4   0   0   1   0  11   0 921   1  62]\n",
      " [107   0   0   4   3   1  20   2 863   0]\n",
      " [  4   0   0   0   0  12   0  22   0 962]]\n"
     ]
    }
   ],
   "source": [
    "print(cm)"
   ]
  },
  {
   "cell_type": "code",
   "execution_count": null,
   "metadata": {},
   "outputs": [],
   "source": []
  }
 ],
 "metadata": {
  "kernelspec": {
   "display_name": "Python 3",
   "language": "python",
   "name": "python3"
  },
  "language_info": {
   "codemirror_mode": {
    "name": "ipython",
    "version": 3
   },
   "file_extension": ".py",
   "mimetype": "text/x-python",
   "name": "python",
   "nbconvert_exporter": "python",
   "pygments_lexer": "ipython3",
   "version": "3.6.7"
  }
 },
 "nbformat": 4,
 "nbformat_minor": 4
}
